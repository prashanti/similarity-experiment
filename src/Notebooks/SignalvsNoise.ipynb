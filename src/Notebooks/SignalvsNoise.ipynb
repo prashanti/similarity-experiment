{
 "cells": [
  {
   "cell_type": "code",
   "execution_count": 11,
   "metadata": {
    "collapsed": true
   },
   "outputs": [],
   "source": [
    "import matplotlib.lines as mlines\n",
    "import os\n",
    "import pandas as pd\n",
    "import matplotlib.pyplot as plt\n",
    "import numpy as np\n",
    "import math\n",
    "from scipy import stats\n",
    "%matplotlib inline"
   ]
  },
  {
   "cell_type": "code",
   "execution_count": 1,
   "metadata": {
    "collapsed": true
   },
   "outputs": [],
   "source": [
    "def error(scorelist):\n",
    "    return 2*(np.std(scorelist)/math.sqrt(len(scorelist)))\n",
    "\n",
    "def signal_vs_noise(signalfile,noisefile):\n",
    "\n",
    "    noisedf=pd.read_csv(noisefile, sep='\\t')\n",
    "\n",
    "\n",
    "\n",
    "    signalbestscores=dict()\n",
    "    noisebestscores=dict()\n",
    "    numreplacedset=set()\n",
    "    metricset=set()\n",
    "    signalmeanbestscores=dict()\n",
    "    next(signalfile)\n",
    "    for line in signalfile:\n",
    "        queryid,numreplaced,match_bp_sym_pic,bp_sym_pic,match_bp_sym_aic,bp_sym_aic,match_bp_asym_pic,bp_asym_pic,match_bp_asym_aic,bp_asym_aic,match_ap_pic,ap_pic,match_ap_aic,ap_aic,match_bp_asym_simj,bp_asym_simj,match_bp_sym_simj,bp_sym_simj,match_ap_simj,ap_simj=line.strip().split(\"\\t\")\n",
    "        numreplaced=int(numreplaced)\n",
    "    \n",
    "\n",
    "        if numreplaced not in signalbestscores:\n",
    "            signalbestscores[numreplaced]=dict()\n",
    "            numreplacedset.add(numreplaced)\n",
    "        \n",
    "        metric=\"bp_sym_pic\"\n",
    "\n",
    "        metricset.add(metric)\n",
    "        noisebestscores[metric]=noisedf[metric]\n",
    "        if metric not in signalbestscores[numreplaced]:\n",
    "            signalbestscores[numreplaced][metric]=[]\n",
    "        signalbestscores[numreplaced][metric].append(float(bp_sym_pic))\n",
    "\n",
    "        metric=\"bp_sym_aic\"\n",
    "        noisebestscores[metric]=noisedf[metric]\n",
    "        metricset.add(metric)\n",
    "        if metric not in signalbestscores[numreplaced]:\n",
    "            signalbestscores[numreplaced][metric]=[]\n",
    "        signalbestscores[numreplaced][metric].append(float(bp_sym_aic))\n",
    "\n",
    "\n",
    "        metric=\"bp_asym_pic\"\n",
    "        noisebestscores[metric]=noisedf[metric]\n",
    "        metricset.add(metric)\n",
    "        if metric not in signalbestscores[numreplaced]:\n",
    "            signalbestscores[numreplaced][metric]=[]\n",
    "        signalbestscores[numreplaced][metric].append(float(bp_asym_pic))\n",
    "\n",
    "        metric=\"bp_asym_aic\"\n",
    "        noisebestscores[metric]=noisedf[metric]\n",
    "        metricset.add(metric)\n",
    "        if metric not in signalbestscores[numreplaced]:\n",
    "            signalbestscores[numreplaced][metric]=[]\n",
    "        signalbestscores[numreplaced][metric].append(float(bp_asym_aic))\n",
    "\n",
    "\n",
    "        metric=\"ap_pic\"\n",
    "        noisebestscores[metric]=noisedf[metric]\n",
    "        metricset.add(metric)\n",
    "        if metric not in signalbestscores[numreplaced]:\n",
    "            signalbestscores[numreplaced][metric]=[]\n",
    "        signalbestscores[numreplaced][metric].append(float(ap_pic))\n",
    "\n",
    "        metric=\"ap_aic\"\n",
    "        noisebestscores[metric]=noisedf[metric]\n",
    "        metricset.add(metric)\n",
    "        if metric not in signalbestscores[numreplaced]:\n",
    "            signalbestscores[numreplaced][metric]=[]\n",
    "        signalbestscores[numreplaced][metric].append(float(ap_aic))\n",
    "\n",
    "        metric=\"bp_sym_simj\"\n",
    "        noisebestscores[metric]=noisedf[metric]\n",
    "        metricset.add(metric)\n",
    "        if metric not in signalbestscores[numreplaced]:\n",
    "            signalbestscores[numreplaced][metric]=[]\n",
    "        signalbestscores[numreplaced][metric].append(float(bp_sym_simj))\n",
    "\n",
    "        metric=\"bp_asym_simj\"\n",
    "        noisebestscores[metric]=noisedf[metric]\n",
    "        metricset.add(metric)\n",
    "        if metric not in signalbestscores[numreplaced]:\n",
    "            signalbestscores[numreplaced][metric]=[]\n",
    "        signalbestscores[numreplaced][metric].append(float(bp_asym_simj))\n",
    "\n",
    "        metric=\"ap_simj\"\n",
    "        noisebestscores[metric]=noisedf[metric]\n",
    "        metricset.add(metric)\n",
    "        if metric not in signalbestscores[numreplaced]:\n",
    "            signalbestscores[numreplaced][metric]=[]\n",
    "        signalbestscores[numreplaced][metric].append(float(ap_simj))\n",
    "\n",
    "    signalfile.close()\n",
    "    fig=plt.figure()\n",
    "    for metric in sorted(metricset):\n",
    "        signallist=[]\n",
    "        errorlist=[]\n",
    "        percentilelist=[]\n",
    "        for numreplaced in sorted(numreplacedset):\n",
    "            signallist.append(np.mean(signalbestscores[numreplaced][metric]))\n",
    "            errorlist.append(error(signalbestscores[numreplaced][metric]))\n",
    "            percentilelist.append(stats.percentileofscore(noisebestscores[metric],np.mean(signalbestscores[numreplaced][metric])))\n",
    "\n",
    "        \n",
    "    title=dict()\n",
    "    title['ap_aic']=\"Annotation IC\"\n",
    "    title['ap_pic']=\"All Pairs \\n\\n Profile IC\"\n",
    "    title['ap_simj']=\"Jaccard\"\n",
    "    title['bp_asym_aic']=\"Annotation IC\"\n",
    "    title['bp_asym_pic']=\"Best Pairs Asymmetric\\n\\nProfile IC\"\n",
    "    title['bp_asym_simj']=\"Jaccard\"\n",
    "    title['bp_sym_aic']=\"Annotation IC\"\n",
    "    title['bp_sym_pic']=\"Best Pairs Symmetric\\n\\nProfile IC\"\n",
    "    title['bp_sym_simj']=\"Jaccard\"\n",
    "    f, axarr = plt.subplots(3, 3)\n",
    "    i=j=0\n",
    "    for metric in sorted(metricset):\n",
    "        signallist=[]\n",
    "        errorlist=[]\n",
    "        percentilelist=[np.percentile(noisebestscores[metric],99),np.percentile(noisebestscores[metric],99.9)]\n",
    "        alphalist=['#B6B6B4','#736F6E','#0C090A']\n",
    "        for numreplaced in sorted(numreplacedset):\n",
    "            signallist.append(np.mean(signalbestscores[numreplaced][metric]))\n",
    "            errorlist.append(error(signalbestscores[numreplaced][metric]))\n",
    "        axarr[i, j].errorbar(list(sorted(numreplacedset)),signallist,yerr=errorlist,color='black')\n",
    "        axarr[i,j].axhline(y=np.percentile(noisebestscores[metric],99),linestyle='--',color='orange')\n",
    "        axarr[i,j].axhline(y=np.percentile(noisebestscores[metric],99.9),linestyle='--',color='blue',label='x')\n",
    "        axarr[i, j].set_title(title[metric])\n",
    "        axarr[i, j].set_ylim(0,1.1)\n",
    "        axarr[i, j].set_xlim(0,11)\n",
    "        \n",
    "        j+=1\n",
    "        if j==3:\n",
    "            i+=1\n",
    "            j=0\n",
    "        if i==3:\n",
    "            i=0 \n",
    "    plt.setp([a.get_xticklabels() for a in axarr[0, :]], visible=False)\n",
    "    plt.setp([a.get_xticklabels() for a in axarr[1, :]], visible=False)\n",
    "    axarr[2,1].set_xlabel('Number of annotations replaced')\n",
    "    axarr[1,0].set_ylabel('Similarity score')\n",
    "    plt.tight_layout()  \n",
    "    \n",
    "    plt.show()"
   ]
  },
  {
   "cell_type": "code",
   "execution_count": 15,
   "metadata": {
    "collapsed": false
   },
   "outputs": [
    {
     "data": {
      "text/plain": [
       "<matplotlib.figure.Figure at 0x10c6327b8>"
      ]
     },
     "metadata": {},
     "output_type": "display_data"
    },
    {
     "data": {
      "image/png": "[encoded data removed]",
      "text/plain": [
       "<matplotlib.figure.Figure at 0x10c676e10>"
      ]
     },
     "metadata": {},
     "output_type": "display_data"
    }
   ],
   "source": [
    "noisefile=\"../../results/Noise_Size10_BestMatches.tsv\"\n",
    "signalfile=open(\"../../results/Decay/Integrated_ProfileSize10_Results.tsv\")\n",
    "signal_vs_noise(signalfile,noisefile)"
   ]
  }
 ],
 "metadata": {
  "kernelspec": {
   "display_name": "Python 3",
   "language": "python",
   "name": "python3"
  },
  "language_info": {
   "codemirror_mode": {
    "name": "ipython",
    "version": 3
   },
   "file_extension": ".py",
   "mimetype": "text/x-python",
   "name": "python",
   "nbconvert_exporter": "python",
   "pygments_lexer": "ipython3",
   "version": "3.4.1"
  }
 },
 "nbformat": 4,
 "nbformat_minor": 0
}
