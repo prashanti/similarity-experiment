{
 "cells": [
  {
   "cell_type": "markdown",
   "metadata": {},
   "source": [
    "# Sensitivity analysis of semantic similarity measures\n",
    "Semantic similarity metrics are often used to compare distantly related biological entities based on their ontological annotations. While semantic similarity measures are widely used, it is unclear as to how sensitive these metrics are to different levels of partial relatedness. In addition to the choice of similarity metrics, there are additional parameters that affect the performance of these measures. Here, we compare a subset of similarity metrics combined with different choices for additional parameters. \n",
    "\n",
    "## Similarity metrics\n",
    "* [Resnik](http://journals.plos.org/ploscompbiol/article?id=10.1371/journal.pcbi.1000443)\n",
    "* [Jaccard](http://journals.plos.org/ploscompbiol/article?id=10.1371/journal.pcbi.1000443)\n",
    "* [Hybrid Relative Specificity](http://www.ncbi.nlm.nih.gov/pubmed/23741529)\n",
    "\n",
    "## Profile aggregation approaches\n",
    "* [All Pairs (AP)](http://journals.plos.org/ploscompbiol/article?id=10.1371/journal.pcbi.1000443)\n",
    "* [Best Pairs (BP)](http://journals.plos.org/ploscompbiol/article?id=10.1371/journal.pcbi.1000443)\n",
    "* [Groupwise (G)](http://www.biomedcentral.com/1471-2105/9/S5/S4/)\n",
    "\n",
    "## Different approaches to measure Information Content (IC)\n",
    "* [Annotation Information Content](http://bmcbioinformatics.biomedcentral.com/articles/10.1186/1471-2105-9-327)\n",
    "* [Profile Information Content](http://journals.plos.org/plosbiology/article?id=10.1371/journal.pbio.1000247#s4)\n",
    "\n",
    "## Comparison of decay\n",
    "Here, we compare how the similarity scores from different metrics decay when comparing profiles with decreasing relatedness. A faux database of profiles is created and query profiles of a given size are selected randomly from the database. These query profiles are compared to all profiles in the database and the best match similarity is noted. The query profiles are incrementally decayed by replacing annotations with randomly chosen annotations.\n",
    "\n",
    "[View analysis](DecayAnalysis.ipynb)\n",
    "\n",
    "## Comparison of distinguishing signal from noise\n",
    "Here, we compare how well different metrics are able to distinguish real similarity from noise similarity.\n",
    "\n",
    "[View analysis](SignalvsNoise.ipynb)"
   ]
  },
  {
   "cell_type": "code",
   "execution_count": null,
   "metadata": {
    "collapsed": true
   },
   "outputs": [],
   "source": []
  }
 ],
 "metadata": {
  "kernelspec": {
   "display_name": "Python 3",
   "language": "python",
   "name": "python3"
  },
  "language_info": {
   "codemirror_mode": {
    "name": "ipython",
    "version": 3
   },
   "file_extension": ".py",
   "mimetype": "text/x-python",
   "name": "python",
   "nbconvert_exporter": "python",
   "pygments_lexer": "ipython3",
   "version": "3.4.1"
  }
 },
 "nbformat": 4,
 "nbformat_minor": 0
}
